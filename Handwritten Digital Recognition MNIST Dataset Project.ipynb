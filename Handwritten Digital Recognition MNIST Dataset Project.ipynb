{
 "cells": [
  {
   "cell_type": "markdown",
   "id": "71f1e6f6",
   "metadata": {},
   "source": [
    "## Loading the necessary libraries and MNIST Dataset"
   ]
  },
  {
   "cell_type": "code",
   "execution_count": 3,
   "id": "fe67305e",
   "metadata": {},
   "outputs": [],
   "source": [
    "import tensorflow\n",
    "from tensorflow import keras\n",
    "from tensorflow.keras import Sequential\n",
    "from tensorflow.keras.layers import Dense,Flatten"
   ]
  },
  {
   "cell_type": "code",
   "execution_count": 4,
   "id": "842c5336",
   "metadata": {},
   "outputs": [
    {
     "name": "stdout",
     "output_type": "stream",
     "text": [
      "Downloading data from https://storage.googleapis.com/tensorflow/tf-keras-datasets/mnist.npz\n",
      "11490434/11490434 [==============================] - 8s 1us/step\n"
     ]
    }
   ],
   "source": [
    "(X_train,y_train),(X_test,y_test) = keras.datasets.mnist.load_data()"
   ]
  },
  {
   "cell_type": "code",
   "execution_count": 5,
   "id": "d5e7359b",
   "metadata": {},
   "outputs": [
    {
     "data": {
      "text/plain": [
       "(60000, 28, 28)"
      ]
     },
     "execution_count": 5,
     "metadata": {},
     "output_type": "execute_result"
    }
   ],
   "source": [
    "X_train.shape"
   ]
  },
  {
   "cell_type": "code",
   "execution_count": 6,
   "id": "7b494035",
   "metadata": {},
   "outputs": [
    {
     "data": {
      "text/plain": [
       "(60000,)"
      ]
     },
     "execution_count": 6,
     "metadata": {},
     "output_type": "execute_result"
    }
   ],
   "source": [
    "y_train.shape"
   ]
  },
  {
   "cell_type": "markdown",
   "id": "e3fc3386",
   "metadata": {},
   "source": [
    "Seeing Some Images From The Dataset"
   ]
  },
  {
   "cell_type": "code",
   "execution_count": 8,
   "id": "7c4ab790",
   "metadata": {},
   "outputs": [
    {
     "data": {
      "text/plain": [
       "<matplotlib.image.AxesImage at 0x24ef93c57b0>"
      ]
     },
     "execution_count": 8,
     "metadata": {},
     "output_type": "execute_result"
    },
    {
     "data": {
      "image/png": "[encoded data removed]",
      "text/plain": [
       "<Figure size 640x480 with 1 Axes>"
      ]
     },
     "metadata": {},
     "output_type": "display_data"
    }
   ],
   "source": [
    "import matplotlib.pyplot as plt\n",
    "plt.imshow(X_train[0])"
   ]
  },
  {
   "cell_type": "code",
   "execution_count": 9,
   "id": "93ea16e9",
   "metadata": {},
   "outputs": [
    {
     "data": {
      "text/plain": [
       "<matplotlib.image.AxesImage at 0x24ef9cd99f0>"
      ]
     },
     "execution_count": 9,
     "metadata": {},
     "output_type": "execute_result"
    },
    {
     "data": {
      "image/png": "[encoded data removed]",
      "text/plain": [
       "<Figure size 640x480 with 1 Axes>"
      ]
     },
     "metadata": {},
     "output_type": "display_data"
    }
   ],
   "source": [
    "import matplotlib.pyplot as plt\n",
    "plt.imshow(X_train[1])"
   ]
  },
  {
   "cell_type": "code",
   "execution_count": 12,
   "id": "ea6ebecc",
   "metadata": {},
   "outputs": [],
   "source": [
    "X_train = X_train/255\n",
    "X_test = X_test/255"
   ]
  },
  {
   "cell_type": "markdown",
   "id": "21e27831",
   "metadata": {},
   "source": [
    "Buiding the Model"
   ]
  },
  {
   "cell_type": "code",
   "execution_count": 14,
   "id": "f1d85959",
   "metadata": {},
   "outputs": [],
   "source": [
    "model = Sequential()\n",
    "\n",
    "model.add(Flatten(input_shape=(28,28)))\n",
    "model.add(Dense(128,activation='relu'))\n",
    "model.add(Dense(32,activation='relu'))\n",
    "model.add(Dense(10,activation='softmax'))"
   ]
  },
  {
   "cell_type": "code",
   "execution_count": 16,
   "id": "e30b9eff",
   "metadata": {},
   "outputs": [
    {
     "name": "stdout",
     "output_type": "stream",
     "text": [
      "Model: \"sequential\"\n",
      "_________________________________________________________________\n",
      " Layer (type)                Output Shape              Param #   \n",
      "=================================================================\n",
      " flatten (Flatten)           (None, 784)               0         \n",
      "                                                                 \n",
      " dense (Dense)               (None, 128)               100480    \n",
      "                                                                 \n",
      " dense_1 (Dense)             (None, 32)                4128      \n",
      "                                                                 \n",
      " dense_2 (Dense)             (None, 10)                330       \n",
      "                                                                 \n",
      "=================================================================\n",
      "Total params: 104,938\n",
      "Trainable params: 104,938\n",
      "Non-trainable params: 0\n",
      "_________________________________________________________________\n"
     ]
    }
   ],
   "source": [
    "model.summary()"
   ]
  },
  {
   "cell_type": "code",
   "execution_count": 17,
   "id": "3480e81a",
   "metadata": {},
   "outputs": [],
   "source": [
    "model.compile(loss='sparse_categorical_crossentropy',optimizer='Adam',metrics=['accuracy'])"
   ]
  },
  {
   "cell_type": "code",
   "execution_count": 18,
   "id": "50ac11d3",
   "metadata": {},
   "outputs": [
    {
     "name": "stdout",
     "output_type": "stream",
     "text": [
      "Epoch 1/25\n",
      "1500/1500 [==============================] - 7s 4ms/step - loss: 1.0289 - accuracy: 0.6894 - val_loss: 0.5853 - val_accuracy: 0.8315\n",
      "Epoch 2/25\n",
      "1500/1500 [==============================] - 6s 4ms/step - loss: 0.5022 - accuracy: 0.8532 - val_loss: 0.3899 - val_accuracy: 0.8892\n",
      "Epoch 3/25\n",
      "1500/1500 [==============================] - 6s 4ms/step - loss: 0.3841 - accuracy: 0.8884 - val_loss: 0.3441 - val_accuracy: 0.8998\n",
      "Epoch 4/25\n",
      "1500/1500 [==============================] - 6s 4ms/step - loss: 0.3420 - accuracy: 0.9010 - val_loss: 0.3072 - val_accuracy: 0.9128\n",
      "Epoch 5/25\n",
      "1500/1500 [==============================] - 6s 4ms/step - loss: 0.3155 - accuracy: 0.9084 - val_loss: 0.2870 - val_accuracy: 0.9177\n",
      "Epoch 6/25\n",
      "1500/1500 [==============================] - 6s 4ms/step - loss: 0.2930 - accuracy: 0.9147 - val_loss: 0.2669 - val_accuracy: 0.9256\n",
      "Epoch 7/25\n",
      "1500/1500 [==============================] - 6s 4ms/step - loss: 0.2748 - accuracy: 0.9194 - val_loss: 0.2534 - val_accuracy: 0.9282\n",
      "Epoch 8/25\n",
      "1500/1500 [==============================] - 6s 4ms/step - loss: 0.2591 - accuracy: 0.9239 - val_loss: 0.2386 - val_accuracy: 0.9326\n",
      "Epoch 9/25\n",
      "1500/1500 [==============================] - 6s 4ms/step - loss: 0.2429 - accuracy: 0.9298 - val_loss: 0.2294 - val_accuracy: 0.9354\n",
      "Epoch 10/25\n",
      "1500/1500 [==============================] - 6s 4ms/step - loss: 0.2279 - accuracy: 0.9339 - val_loss: 0.2147 - val_accuracy: 0.9380\n",
      "Epoch 11/25\n",
      "1500/1500 [==============================] - 6s 4ms/step - loss: 0.2143 - accuracy: 0.9373 - val_loss: 0.2013 - val_accuracy: 0.9423\n",
      "Epoch 12/25\n",
      "1500/1500 [==============================] - 6s 4ms/step - loss: 0.2011 - accuracy: 0.9419 - val_loss: 0.1913 - val_accuracy: 0.9468\n",
      "Epoch 13/25\n",
      "1500/1500 [==============================] - 6s 4ms/step - loss: 0.1878 - accuracy: 0.9454 - val_loss: 0.1848 - val_accuracy: 0.9469\n",
      "Epoch 14/25\n",
      "1500/1500 [==============================] - 6s 4ms/step - loss: 0.1778 - accuracy: 0.9484 - val_loss: 0.1760 - val_accuracy: 0.9513\n",
      "Epoch 15/25\n",
      "1500/1500 [==============================] - 6s 4ms/step - loss: 0.1673 - accuracy: 0.9510 - val_loss: 0.1698 - val_accuracy: 0.9521\n",
      "Epoch 16/25\n",
      "1500/1500 [==============================] - 6s 4ms/step - loss: 0.1579 - accuracy: 0.9541 - val_loss: 0.1655 - val_accuracy: 0.9523\n",
      "Epoch 17/25\n",
      "1500/1500 [==============================] - 6s 4ms/step - loss: 0.1493 - accuracy: 0.9569 - val_loss: 0.1530 - val_accuracy: 0.9559\n",
      "Epoch 18/25\n",
      "1500/1500 [==============================] - 6s 4ms/step - loss: 0.1413 - accuracy: 0.9589 - val_loss: 0.1518 - val_accuracy: 0.9558\n",
      "Epoch 19/25\n",
      "1500/1500 [==============================] - 6s 4ms/step - loss: 0.1340 - accuracy: 0.9616 - val_loss: 0.1582 - val_accuracy: 0.9550\n",
      "Epoch 20/25\n",
      "1500/1500 [==============================] - 6s 4ms/step - loss: 0.1278 - accuracy: 0.9627 - val_loss: 0.1380 - val_accuracy: 0.9603\n",
      "Epoch 21/25\n",
      "1500/1500 [==============================] - 6s 4ms/step - loss: 0.1215 - accuracy: 0.9649 - val_loss: 0.1397 - val_accuracy: 0.9591\n",
      "Epoch 22/25\n",
      "1500/1500 [==============================] - 6s 4ms/step - loss: 0.1151 - accuracy: 0.9666 - val_loss: 0.1329 - val_accuracy: 0.9619\n",
      "Epoch 23/25\n",
      "1500/1500 [==============================] - 6s 4ms/step - loss: 0.1104 - accuracy: 0.9674 - val_loss: 0.1341 - val_accuracy: 0.9615\n",
      "Epoch 24/25\n",
      "1500/1500 [==============================] - 6s 4ms/step - loss: 0.1059 - accuracy: 0.9696 - val_loss: 0.1286 - val_accuracy: 0.9613\n",
      "Epoch 25/25\n",
      "1500/1500 [==============================] - 6s 4ms/step - loss: 0.1017 - accuracy: 0.9702 - val_loss: 0.1281 - val_accuracy: 0.9627\n"
     ]
    }
   ],
   "source": [
    "history = model.fit(X_train,y_train,epochs=25,validation_split=0.2)"
   ]
  },
  {
   "cell_type": "code",
   "execution_count": 19,
   "id": "79c087ee",
   "metadata": {},
   "outputs": [
    {
     "name": "stdout",
     "output_type": "stream",
     "text": [
      "313/313 [==============================] - 1s 2ms/step\n"
     ]
    }
   ],
   "source": [
    "y_prob = model.predict(X_test)"
   ]
  },
  {
   "cell_type": "code",
   "execution_count": 20,
   "id": "d4ade077",
   "metadata": {},
   "outputs": [],
   "source": [
    "y_pred = y_prob.argmax(axis=1)"
   ]
  },
  {
   "cell_type": "code",
   "execution_count": 21,
   "id": "261adb54",
   "metadata": {},
   "outputs": [
    {
     "data": {
      "text/plain": [
       "0.9157"
      ]
     },
     "execution_count": 21,
     "metadata": {},
     "output_type": "execute_result"
    }
   ],
   "source": [
    "from sklearn.metrics import accuracy_score\n",
    "accuracy_score(y_test,y_pred)"
   ]
  },
  {
   "cell_type": "markdown",
   "id": "ad0894e4",
   "metadata": {},
   "source": [
    "Plotting grapgh between Loss and Val loss"
   ]
  },
  {
   "cell_type": "code",
   "execution_count": 22,
   "id": "16f197a8",
   "metadata": {},
   "outputs": [
    {
     "data": {
      "text/plain": [
       "[<matplotlib.lines.Line2D at 0x24e965110f0>]"
      ]
     },
     "execution_count": 22,
     "metadata": {},
     "output_type": "execute_result"
    },
    {
     "data": {
      "image/png": "[encoded data removed]",
      "text/plain": [
       "<Figure size 640x480 with 1 Axes>"
      ]
     },
     "metadata": {},
     "output_type": "display_data"
    }
   ],
   "source": [
    "plt.plot(history.history['loss'])\n",
    "plt.plot(history.history['val_loss'])"
   ]
  },
  {
   "cell_type": "markdown",
   "id": "0abae0a3",
   "metadata": {},
   "source": [
    "Plotting Graph between accuracy and Val accuracy"
   ]
  },
  {
   "cell_type": "code",
   "execution_count": 23,
   "id": "0e95c80b",
   "metadata": {},
   "outputs": [
    {
     "data": {
      "text/plain": [
       "[<matplotlib.lines.Line2D at 0x24e9657e0b0>]"
      ]
     },
     "execution_count": 23,
     "metadata": {},
     "output_type": "execute_result"
    },
    {
     "data": {
      "image/png": "[encoded data removed]",
      "text/plain": [
       "<Figure size 640x480 with 1 Axes>"
      ]
     },
     "metadata": {},
     "output_type": "display_data"
    }
   ],
   "source": [
    "plt.plot(history.history['accuracy'])\n",
    "plt.plot(history.history['val_accuracy'])"
   ]
  },
  {
   "cell_type": "markdown",
   "id": "57926daa",
   "metadata": {},
   "source": [
    "## Predicting of Numbers from 0 to 9 \n"
   ]
  },
  {
   "cell_type": "code",
   "execution_count": 24,
   "id": "d6dddd1f",
   "metadata": {},
   "outputs": [
    {
     "data": {
      "text/plain": [
       "<matplotlib.image.AxesImage at 0x24eace2aaa0>"
      ]
     },
     "execution_count": 24,
     "metadata": {},
     "output_type": "execute_result"
    },
    {
     "data": {
      "image/png": "[encoded data removed]",
      "text/plain": [
       "<Figure size 640x480 with 1 Axes>"
      ]
     },
     "metadata": {},
     "output_type": "display_data"
    }
   ],
   "source": [
    "plt.imshow(X_test[1])"
   ]
  },
  {
   "cell_type": "code",
   "execution_count": 26,
   "id": "a6511937",
   "metadata": {},
   "outputs": [
    {
     "data": {
      "text/plain": [
       "<matplotlib.image.AxesImage at 0x24ead05c0a0>"
      ]
     },
     "execution_count": 26,
     "metadata": {},
     "output_type": "execute_result"
    },
    {
     "data": {
      "image/png": "[encoded data removed]",
      "text/plain": [
       "<Figure size 640x480 with 1 Axes>"
      ]
     },
     "metadata": {},
     "output_type": "display_data"
    }
   ],
   "source": [
    "plt.imshow(X_test[6])"
   ]
  },
  {
   "cell_type": "code",
   "execution_count": 27,
   "id": "dbfef434",
   "metadata": {},
   "outputs": [
    {
     "name": "stdout",
     "output_type": "stream",
     "text": [
      "1/1 [==============================] - 0s 16ms/step\n"
     ]
    },
    {
     "data": {
      "text/plain": [
       "array([2], dtype=int64)"
      ]
     },
     "execution_count": 27,
     "metadata": {},
     "output_type": "execute_result"
    }
   ],
   "source": [
    "model.predict(X_test[1].reshape(1,28,28)).argmax(axis=1)"
   ]
  },
  {
   "cell_type": "code",
   "execution_count": 28,
   "id": "8049aa81",
   "metadata": {},
   "outputs": [
    {
     "name": "stdout",
     "output_type": "stream",
     "text": [
      "1/1 [==============================] - 0s 25ms/step\n"
     ]
    },
    {
     "data": {
      "text/plain": [
       "array([4], dtype=int64)"
      ]
     },
     "execution_count": 28,
     "metadata": {},
     "output_type": "execute_result"
    }
   ],
   "source": [
    "model.predict(X_test[6].reshape(1,28,28)).argmax(axis=1)"
   ]
  },
  {
   "cell_type": "code",
   "execution_count": null,
   "id": "a039d0c8",
   "metadata": {},
   "outputs": [],
   "source": []
  }
 ],
 "metadata": {
  "kernelspec": {
   "display_name": "Python 3 (ipykernel)",
   "language": "python",
   "name": "python3"
  },
  "language_info": {
   "codemirror_mode": {
    "name": "ipython",
    "version": 3
   },
   "file_extension": ".py",
   "mimetype": "text/x-python",
   "name": "python",
   "nbconvert_exporter": "python",
   "pygments_lexer": "ipython3",
   "version": "3.10.9"
  }
 },
 "nbformat": 4,
 "nbformat_minor": 5
}
